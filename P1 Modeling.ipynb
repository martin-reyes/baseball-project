{
 "cells": [
  {
   "cell_type": "markdown",
   "id": "cf1ff06d",
   "metadata": {},
   "source": [
    "# Project 1 Modeling: Regression\n",
    "\n",
    "Build regression models and evaluate and analyze the best model for insights.\n",
    "\n",
    "- Use **team pitching stats** and **team batting stats** to build"
   ]
  },
  {
   "cell_type": "code",
   "execution_count": 9,
   "id": "c58a9ec2",
   "metadata": {},
   "outputs": [],
   "source": [
    "import pandas as pd\n",
    "\n",
    "import sys\n",
    "import os\n",
    "home_directory_path = os.path.expanduser('~')\n",
    "sys.path.append(home_directory_path +'/utils')\n",
    "\n",
    "from prepare_utils import split_data\n",
    "\n",
    "from sklearn.dummy import DummyRegressor\n",
    "from sklearn.linear_model import LinearRegression\n",
    "\n",
    "from sklearn.metrics import mean_squared_error, r2_score\n",
    "\n",
    "from sklearn.preprocessing import MinMaxScaler"
   ]
  },
  {
   "cell_type": "markdown",
   "id": "c8f95b74",
   "metadata": {},
   "source": [
    "Acquire data"
   ]
  },
  {
   "cell_type": "code",
   "execution_count": 4,
   "id": "7a5cdb16",
   "metadata": {},
   "outputs": [],
   "source": [
    "tm_batting = pd.read_csv('data/team_batting.csv')\n",
    "tm_pitching = pd.read_csv('data/team_pitching.csv')"
   ]
  },
  {
   "cell_type": "markdown",
   "id": "84ffd52d",
   "metadata": {},
   "source": [
    "Split data"
   ]
  },
  {
   "cell_type": "code",
   "execution_count": 7,
   "id": "585662c7",
   "metadata": {},
   "outputs": [],
   "source": [
    "tm_batting_train,\\\n",
    "    tm_batting_validate,\\\n",
    "        tm_batting_test = split_data(tm_batting, validate_size=.15, test_size=.15, random_state=123)"
   ]
  },
  {
   "cell_type": "code",
   "execution_count": 8,
   "id": "6b081e6d",
   "metadata": {},
   "outputs": [],
   "source": [
    "tm_pitching_train = tm_pitching.loc[tm_batting_train.index]\n",
    "tm_pitching_validate = tm_pitching.loc[tm_batting_validate.index]\n",
    "tm_pitching_test = tm_pitching.loc[tm_batting_test.index]"
   ]
  },
  {
   "cell_type": "code",
   "execution_count": null,
   "id": "e591eed8",
   "metadata": {},
   "outputs": [],
   "source": [
    "['OPS+_b', 'HardH%_b', 'HR_b', 'BatAge_b', 'OPS_p', 'BB_p', 'HardH%_p', 'PAge_p']\n",
    "['OPS+_b', 'HardH%_b', 'HR_b', 'BatAge_b', 'WHIP_p', 'HR_p', 'HardH%_p', 'PAge_p']"
   ]
  },
  {
   "cell_type": "markdown",
   "id": "d3212fbc",
   "metadata": {},
   "source": [
    "**Preprocess Data**\n",
    "\n",
    "- No categoricals to encode\n",
    "- Scale Features"
   ]
  },
  {
   "cell_type": "code",
   "execution_count": 10,
   "id": "12032792",
   "metadata": {},
   "outputs": [
    {
     "data": {
      "text/plain": [
       "Index(['year', 'W', 'L', 'W-L%', 'Tm', '#Bat', 'BatAge', 'R/G', 'G', 'PA',\n",
       "       'AB', 'R', 'H', '2B', '3B', 'HR', 'RBI', 'SB', 'CS', 'BB', 'SO', 'BA',\n",
       "       'OBP', 'SLG', 'OPS', 'OPS+', 'TB', 'GDP', 'HBP', 'SH', 'SF', 'IBB',\n",
       "       'LOB', 'rOBA', 'Rbat+', 'BAbip', 'ISO', 'HR%', 'SO%', 'BB%', 'EV',\n",
       "       'HardH%', 'LD%', 'GB%', 'FB%', 'GB/FB', 'Pull%', 'Cent%', 'Oppo%',\n",
       "       'WPA', 'cWPA', 'RE24', 'RS%', 'SB%', 'XBT%', 'Outs', 'RC', 'RC/G',\n",
       "       'AIR', 'lgBA', 'lgOBP', 'lgSLG', 'lgOPS', 'OWn%', 'BtRuns', 'BtWins',\n",
       "       'TotA', 'SecA', 'PwrSpd'],\n",
       "      dtype='object')"
      ]
     },
     "execution_count": 10,
     "metadata": {},
     "output_type": "execute_result"
    }
   ],
   "source": [
    "tm_batting_train.columns"
   ]
  },
  {
   "cell_type": "code",
   "execution_count": null,
   "id": "8cd6d520",
   "metadata": {},
   "outputs": [],
   "source": [
    "X"
   ]
  },
  {
   "cell_type": "code",
   "execution_count": 11,
   "id": "5b25bd03",
   "metadata": {},
   "outputs": [
    {
     "data": {
      "text/plain": [
       "Index(['year', 'Tm', '#P', 'PAge', 'RA/G', 'W', 'L', 'W-L%', 'ERA', 'G', 'GS',\n",
       "       'GF', 'CG', 'tSho', 'cSho', 'SV', 'IP', 'H', 'R', 'ER', 'HR', 'BB',\n",
       "       'IBB', 'SO', 'HBP', 'BK', 'WP', 'BF', 'ERA+', 'FIP', 'WHIP', 'H9',\n",
       "       'HR9', 'BB9', 'SO9', 'SO/W', 'LOB', 'BA', 'OBP', 'SLG', 'OPS', 'BAbip',\n",
       "       'HR%', 'SO%', 'BB%', 'EV', 'HardH%', 'LD%', 'GB%', 'FB%', 'GB/FB',\n",
       "       'WPA', 'cWPA', 'RE24', 'PAu', 'PA', 'AB', '2B', '3B', 'SB', 'CS', 'TB',\n",
       "       'GDP', 'SH', 'SF', 'ROE', 'Ptn%', 'SO-BB%', 'XBH%', 'X/H%', 'GO/AO',\n",
       "       'IP%', 'HR/FB', 'IF/FB', 'Opp', 'DP', '%'],\n",
       "      dtype='object')"
      ]
     },
     "execution_count": 11,
     "metadata": {},
     "output_type": "execute_result"
    }
   ],
   "source": [
    "tm_pitching_train.columns"
   ]
  },
  {
   "cell_type": "code",
   "execution_count": null,
   "id": "270b1c72",
   "metadata": {},
   "outputs": [],
   "source": []
  },
  {
   "cell_type": "code",
   "execution_count": null,
   "id": "14edacc0",
   "metadata": {},
   "outputs": [],
   "source": [
    "scaler = MinMaxScaler()\n"
   ]
  },
  {
   "cell_type": "markdown",
   "id": "020b23ce",
   "metadata": {},
   "source": [
    "**Build Baseline Model**"
   ]
  },
  {
   "cell_type": "code",
   "execution_count": null,
   "id": "373824ae",
   "metadata": {},
   "outputs": [],
   "source": []
  },
  {
   "cell_type": "markdown",
   "id": "1d3d13b3",
   "metadata": {},
   "source": [
    "**Build Linear Regression Model**"
   ]
  },
  {
   "cell_type": "code",
   "execution_count": null,
   "id": "ddd6e6ab",
   "metadata": {},
   "outputs": [],
   "source": []
  }
 ],
 "metadata": {
  "kernelspec": {
   "display_name": "Python 3 (ipykernel)",
   "language": "python",
   "name": "python3"
  },
  "language_info": {
   "codemirror_mode": {
    "name": "ipython",
    "version": 3
   },
   "file_extension": ".py",
   "mimetype": "text/x-python",
   "name": "python",
   "nbconvert_exporter": "python",
   "pygments_lexer": "ipython3",
   "version": "3.10.9"
  },
  "varInspector": {
   "cols": {
    "lenName": 16,
    "lenType": 16,
    "lenVar": 40
   },
   "kernels_config": {
    "python": {
     "delete_cmd_postfix": "",
     "delete_cmd_prefix": "del ",
     "library": "var_list.py",
     "varRefreshCmd": "print(var_dic_list())"
    },
    "r": {
     "delete_cmd_postfix": ") ",
     "delete_cmd_prefix": "rm(",
     "library": "var_list.r",
     "varRefreshCmd": "cat(var_dic_list()) "
    }
   },
   "types_to_exclude": [
    "module",
    "function",
    "builtin_function_or_method",
    "instance",
    "_Feature"
   ],
   "window_display": false
  }
 },
 "nbformat": 4,
 "nbformat_minor": 5
}
